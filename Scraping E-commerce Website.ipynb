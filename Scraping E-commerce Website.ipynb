{
 "cells": [
  {
   "cell_type": "markdown",
   "metadata": {},
   "source": [
    "## Scraping E-commerce Website"
   ]
  },
  {
   "cell_type": "code",
   "execution_count": 1,
   "metadata": {},
   "outputs": [],
   "source": [
    "#importing required packages\n",
    "from bs4 import BeautifulSoup as soup  # HTML data structure\n",
    "from urllib.request import urlopen as uReq  # Web client"
   ]
  },
  {
   "cell_type": "markdown",
   "metadata": {},
   "source": [
    "Here we web scrap Graphic Card data from Newegg.com site"
   ]
  },
  {
   "cell_type": "code",
   "execution_count": 2,
   "metadata": {},
   "outputs": [],
   "source": [
    "#URL to web scrap from\n",
    "page_url = \"http://www.newegg.com/Product/ProductList.aspx?Submit=ENE&N=-1&IsNodeId=1&Description=GTX&bop=And&Page=1&PageSize=36&order=BESTMATCH\""
   ]
  },
  {
   "cell_type": "code",
   "execution_count": 3,
   "metadata": {},
   "outputs": [],
   "source": [
    "#open the connection & download html page from url\n",
    "uClient = uReq(page_url)\n",
    "\n",
    "#parse html into a soup data structure to traverse through the data\n",
    "page_soup = soup(uClient.read(), \"html.parser\")\n",
    "\n",
    "#close the connection\n",
    "uClient.close()"
   ]
  },
  {
   "cell_type": "code",
   "execution_count": 4,
   "metadata": {},
   "outputs": [],
   "source": [
    "#find each product from the store page\n",
    "containers = page_soup.findAll(\"div\", {\"class\": \"item-container\"})"
   ]
  },
  {
   "cell_type": "code",
   "execution_count": 5,
   "metadata": {},
   "outputs": [
    {
     "data": {
      "text/plain": [
       "29"
      ]
     },
     "execution_count": 5,
     "metadata": {},
     "output_type": "execute_result"
    }
   ],
   "source": [
    "#Create an output file to write to local disk\n",
    "out_filename = \"graphics_cards.csv\"\n",
    "#declare header of csv file to be written\n",
    "headers = \"brand,product_name,shipping \\n\"\n",
    "\n",
    "#open file & write headers\n",
    "f = open(out_filename, \"w\")\n",
    "f.write(headers)"
   ]
  },
  {
   "cell_type": "code",
   "execution_count": 6,
   "metadata": {},
   "outputs": [
    {
     "name": "stdout",
     "output_type": "stream",
     "text": [
      "brand: Msi\n",
      "product_name: MSI GeForce GTX 1660 SUPER DirectX 12 GTX 1660 SUPER GAMING X 6GB 192-Bit GDDR6 PCI Express 3.0 x16 HDCP Ready Video Card\n",
      "shipping: Free\n",
      "\n",
      "brand: Msi\n",
      "product_name: MSI GeForce GTX 1660 Ti DirectX 12 GTX 1660 TI GAMING X 6G 6GB 192-Bit GDDR6 PCI Express 3.0 x16 HDCP Ready Video Card\n",
      "shipping: Free\n",
      "\n",
      "brand: Gigabyte\n",
      "product_name: GIGABYTE GeForce GTX 1660 SUPER DirectX 12 GV-N166SGAMING OC-6GD 6GB 192-Bit GDDR6 PCI Express 3.0 x16 ATX Video Card\n",
      "shipping: Free\n",
      "\n",
      "brand: Msi\n",
      "product_name: MSI GeForce GTX 1660 SUPER DirectX 12 GTX 1660 SUPER VENTUS XS OC 6GB 192-Bit GDDR6 PCI Express 3.0 x16 HDCP Ready Video Card\n",
      "shipping: Special\n",
      "\n",
      "brand: Asus\n",
      "product_name: ASUS TUF Gaming GeForce GTX 1660 SUPER Overclocked 6GB Edition HDMI DP DVI Gaming Graphics Card (TUF-GTX1660S-O6G-GAMING)\n",
      "shipping: 45.00\n",
      "\n",
      "brand: Gigabyte\n",
      "product_name: GIGABYTE GeForce GTX 1650 DirectX 12 GV-N1656OC-4GL 4GB 128-Bit GDDR6 PCI Express 3.0 x16 Low Profile Ready Video Card\n",
      "shipping: Free\n",
      "\n",
      "brand: Evga\n",
      "product_name: EVGA GeForce GTX 1080 Ti Gaming 11GB Video Card 11G-P4-5390-KR Graphics GPU\n",
      "shipping: Free\n",
      "\n",
      "brand: Msi\n",
      "product_name: MSI GeForce GTX 1050 Ti DirectX 12 GTX 1050 Ti GAMING X 4G 4GB 128-Bit GDDR5 PCI Express 3.0 x16 HDCP Ready ATX Video Card\n",
      "shipping: Special\n",
      "\n",
      "brand: Evga\n",
      "product_name: EVGA GeForce GTX 1650 KO ULTRA GDDR6 GAMING, 04G-P4-1457-KR, 4GB GDDR6, Dual Fan, Metal Backplate\n",
      "shipping: Free\n",
      "\n",
      "brand: Gigabyte\n",
      "product_name: GIGABYTE GeForce GTX 1650 MINI ITX OC 4G Graphics Card, Mini ITX Form Factor, 4GB 128-Bit GDDR5, GV-N1650IXOC-4GD Video Card\n",
      "shipping: 8.99\n",
      "\n",
      "brand: Msi\n",
      "product_name: MSI GeForce GTX 1050 Ti DirectX 12 GTX 1050 Ti GAMING 4G 4GB 128-Bit GDDR5 PCI Express 3.0 x16 HDCP Ready Video Card\n",
      "shipping: Free\n",
      "\n",
      "brand: Gigabyte\n",
      "product_name: GIGABYTE GeForce GTX 1660 Ti OC 6G Graphics Card, 2 x WINDFORCE Fans, 6GB 192-Bit GDDR6, GV-N166TOC-6GD Video Card\n",
      "shipping: Free\n",
      "\n",
      "brand: Evga\n",
      "product_name: EVGA GeForce GTX 1060 GAMING, ACX 2.0 (Single Fan), 03G-P4-6160-KR, 3GB GDDR5, DX12 OSD Support (PXOC), Only 6.8 Inches\n",
      "shipping: 37.00\n",
      "\n",
      "brand: Asus\n",
      "product_name: ASUS Dual GeForce GTX 1060 DirectX 12 DUAL-GTX1060-O3G 3GB 192-Bit GDDR5 PCI Express 3.0 HDCP Ready Video Card\n",
      "shipping: Free\n",
      "\n",
      "brand: Msi\n",
      "product_name: View Return Policy\n",
      "shipping: Free\n",
      "\n",
      "brand: Evga\n",
      "product_name: EVGA GeForce GTX 1070 Ti FTW2 GAMING 08G-P4-6775-KR, 8GB GDDR5 iCX - 9 Thermal Sensors & RGB LED G/P/M\n",
      "shipping: Free\n",
      "\n",
      "brand: Msi\n",
      "product_name: MSI GeForce GTX 1050 Ti DirectX 12 GTX 1050 Ti 4GT OC 4GB 128-Bit GDDR5 PCI Express 3.0 x16 HDCP Ready ATX Video Card\n",
      "shipping: Free\n",
      "\n",
      "brand: Evga\n",
      "product_name: EVGA GeForce GTX 1060 6GB SSC GAMING ACX 3.0, 6GB GDDR5, LED, DX12 OSD Support (PXOC), 06G-P4-6267-KR\n",
      "shipping: Free\n",
      "\n",
      "brand: Evga\n",
      "product_name: EVGA GeForce GTX 980 04G-P4-2983-KR 4GB SC GAMING w/ACX 2.0, 26% Cooler and 36% Quieter Cooling Graphics Card\n",
      "shipping: Free\n",
      "\n",
      "brand: Asus\n",
      "product_name: ASUS Dual GeForce GTX 1650 DUAL-GTX1650-O4GD6-MINI 4GB 128-Bit GDDR6 PCI Express 3.0 HDCP Ready Video Card\n",
      "shipping: Free\n",
      "\n",
      "brand: Asus\n",
      "product_name: ASUS Turbo GeForce GTX 1070 TURBO-GTX1070-8G 8GB 256-Bit GDDR5 PCI Express 3.0 HDCP Ready SLI Support Video Card\n",
      "shipping: Free\n",
      "\n",
      "brand: Evga\n",
      "product_name: EVGA GeForce GTX 1060 SC GAMING, ACX 2.0 (Single Fan), 06G-P4-6163-KR, 6GB GDDR5, DX12 OSD Support (PXOC), Only 6.8 Inches\n",
      "shipping: Free\n",
      "\n",
      "brand: Evga\n",
      "product_name: EVGA SuperClocked 02G-P4-2765-KR G-SYNC Support GeForce GTX 760 2GB 256-bit GDDR5 PCI Express 3.0 SLI Support w/ EVGA ACX Cooler Video Card\n",
      "shipping: Free\n",
      "\n",
      "brand: Evga\n",
      "product_name: EVGA GeForce GTX 1070 Ti DirectX 12 08G-P4-6678-KR 8GB 256-Bit GDDR5 PCI Express 3.0 SLI Support Video Card\n",
      "shipping: Free\n",
      "\n",
      "brand: Evga\n",
      "product_name: EVGA GeForce GTX 1660 SC ULTRA GAMING, 06G-P4-1067-KR, 6GB GDDR5, Dual Fan, Metal Backplate\n",
      "shipping: Free\n",
      "\n",
      "brand: Asus\n",
      "product_name: ASUS Cerberus GeForce GTX 1050 Ti 4GB OC Edition GDDR5 Gaming Graphics Card, CERBERUS-GTX1050TI-O4G\n",
      "shipping: Free\n",
      "\n",
      "brand: Asus\n",
      "product_name: ASUS Turbo GeForce GTX 1070 Ti TURBO-GTX1070TI-8G 8GB 256-Bit GDDR5 PCI Express 3.0 HDCP Ready SLI Support Video Card\n",
      "shipping: Free\n",
      "\n",
      "brand: Asus\n",
      "product_name: ASUS ROG Strix GeForce GTX 1660 SUPER Advanced 6GB Edition GDDR6 HDMI 2.0 DP 1.4 Gaming Graphics Card (ROG-STRIX-GTX1660S-A6G-GAMING)\n",
      "shipping: Free\n",
      "\n",
      "brand: Gigabyte\n",
      "product_name: GIGABYTE GeForce GTX 1660 SUPER DirectX 12 GV-N166SGAMING-6GD 6GB 192-Bit GDDR6 PCI Express 3.0 x16 ATX Video Card\n",
      "shipping: Free\n",
      "\n",
      "brand: Asus\n",
      "product_name: ASUS GeForce GTX 1070 STRIX-GTX1070-8G-GAMING 8GB 256-Bit GDDR5 PCI Express 3.0 HDCP Ready Video Card\n",
      "shipping: Free\n",
      "\n",
      "brand: Evga\n",
      "product_name: EVGA GeForce GTX 1080 Ti SC2 GAMING, 11G-P4-6593-KR, 11GB GDDR5X, iCX Technology - 9 Thermal Sensors & RGB LED G/P/M\n",
      "shipping: Free\n",
      "\n",
      "brand: Asus\n",
      "product_name: ASUS GeForce GTX 1060 DUAL-GTX1060-O6G 6GB 192-Bit GDDR5 PCI Express 3.0 HDCP Ready Video Card\n",
      "shipping: Free\n",
      "\n",
      "brand: Evga\n",
      "product_name: EVGA GeForce GTX 1050 Ti SSC GAMING ACX 3.0, 04G-P4-6255-KR, 4GB GDDR5, DX12 OSD Support (PXOC)\n",
      "shipping: Free\n",
      "\n",
      "brand: Evga\n",
      "product_name: EVGA GeForce GTX 1080 FTW GAMING ACX 3.0, 08G-P4-6286-KR, 8GB GDDR5X, RGB LED, 10CM FAN, 10 Power Phases, Double BIOS, DX12 OSD Support (PXOC)\n",
      "shipping: Free\n",
      "\n"
     ]
    }
   ],
   "source": [
    "#Loop over each product and grabs attributes about each product\n",
    "for container in containers:\n",
    "    #find all link tags \"a\" from within the first div.\n",
    "    make_rating_sp = container.div.select(\"a\")\n",
    "    #Grab the title from the image title attribute then, do proper casing using .title()\n",
    "    brand = make_rating_sp[0].img[\"title\"].title()\n",
    "    #Grab the text within the second \"(a)\" tag from within the list of queries.\n",
    "    product_name = container.div.select(\"a\")[2].text\n",
    "    #Grab the product shipping information by searching all lists with the class \"price-ship\" \n",
    "    #then clean the text of white space with strip() & Clean the strip of \"Shipping $\" if it exists to just get number\n",
    "    shipping = container.findAll(\"li\", {\"class\": \"price-ship\"})[0].text.strip().replace(\"$\", \"\").replace(\" Shipping\", \"\")\n",
    "    #print the dataset to console\n",
    "    print(\"brand: \" + brand)\n",
    "    print(\"product_name: \" + product_name)\n",
    "    print(\"shipping: \" + shipping + \"\\n\")\n",
    "    #write the dataset to file\n",
    "    f.write(brand + \", \" + product_name.replace(\",\", \"|\") + \", \" + shipping + \"\\n\")\n",
    "\n",
    "#close the file\n",
    "f.close()"
   ]
  }
 ],
 "metadata": {
  "kernelspec": {
   "display_name": "Python 3",
   "language": "python",
   "name": "python3"
  },
  "language_info": {
   "codemirror_mode": {
    "name": "ipython",
    "version": 3
   },
   "file_extension": ".py",
   "mimetype": "text/x-python",
   "name": "python",
   "nbconvert_exporter": "python",
   "pygments_lexer": "ipython3",
   "version": "3.8.3"
  }
 },
 "nbformat": 4,
 "nbformat_minor": 4
}
